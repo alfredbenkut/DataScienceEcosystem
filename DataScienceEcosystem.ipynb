{
 "cells": [
  {
   "cell_type": "markdown",
   "id": "57849be3-228c-430f-9302-b4dd290f92ca",
   "metadata": {},
   "source": [
    "# Data Science Tools and Ecosystem\n"
   ]
  },
  {
   "cell_type": "markdown",
   "id": "05a07116-1342-447d-9097-f0e58c680df3",
   "metadata": {},
   "source": [
    "In this notebook, Data Science Tools and Ecosystem are summarized.\n"
   ]
  },
  {
   "cell_type": "markdown",
   "id": "21c283b8-00a1-4dbc-84c7-93fa352404df",
   "metadata": {},
   "source": [
    "**Objectives:**\n",
    "\n",
    "- List popular languages for Data Science\n",
    "- List commonly used libraries by Data scientists\n",
    "- List open source IDE tools for Data Science\n",
    "- Example to show how to evaluate arithmtic expressions in Python\n",
    "- Creating a table."
   ]
  },
  {
   "cell_type": "markdown",
   "id": "5c34d8c4-0ed0-4c81-aec2-8453f3a2c7d4",
   "metadata": {},
   "source": [
    "Some of the popular languages that Data Scientists use are:\n",
    "\n",
    "1. python\n",
    "2. C++\n",
    "3. R"
   ]
  },
  {
   "cell_type": "markdown",
   "id": "b811cfc2-6f52-4008-9736-531c6883f93a",
   "metadata": {},
   "source": [
    "Some of the commonly used libraries used by Data Scientists include:\n",
    "\n",
    "1. Pandas\n",
    "2. Numpy\n",
    "3. Matplotlib\n",
    "4. ggplot2"
   ]
  },
  {
   "cell_type": "markdown",
   "id": "73ff41bc-134a-430c-9495-8b3115f1484b",
   "metadata": {},
   "source": [
    "| Data Science Tools |\n",
    " --------------------\n",
    "|     Jupyter        |\n",
    "|     RStudio        |\n",
    "|     Spyder         |"
   ]
  },
  {
   "cell_type": "markdown",
   "id": "cb00128a-9a6b-4fc1-a12b-40634d34c886",
   "metadata": {},
   "source": [
    "### Below are a few examples of evaluating arithmetic expressions in Python:\n"
   ]
  },
  {
   "cell_type": "code",
   "execution_count": 1,
   "id": "56416f9b-25a8-4d10-90c6-3bc7a8ae8ee6",
   "metadata": {},
   "outputs": [
    {
     "data": {
      "text/plain": [
       "17"
      ]
     },
     "execution_count": 1,
     "metadata": {},
     "output_type": "execute_result"
    }
   ],
   "source": [
    "# This is a simple arithmetic expression to muiltiply then add integers\n",
    "\n",
    "(3*4)+5"
   ]
  },
  {
   "cell_type": "code",
   "execution_count": 4,
   "id": "f07953d4-c1b6-48b2-b764-556fda1d5b6e",
   "metadata": {},
   "outputs": [
    {
     "data": {
      "text/plain": [
       "3.3333333333333335"
      ]
     },
     "execution_count": 4,
     "metadata": {},
     "output_type": "execute_result"
    }
   ],
   "source": [
    "# This will convert 200 minutes to hours by dividing by 60\n",
    "\n",
    "200/60"
   ]
  },
  {
   "cell_type": "markdown",
   "id": "901f3a3b-98db-43a3-a6ef-b4a741808e2f",
   "metadata": {},
   "source": [
    "## Author\n",
    "   Alfred Benny"
   ]
  },
  {
   "cell_type": "code",
   "execution_count": null,
   "id": "1ec4a53e-adc6-4365-b8bd-a5814bb0c227",
   "metadata": {},
   "outputs": [],
   "source": []
  }
 ],
 "metadata": {
  "kernelspec": {
   "display_name": "Python 3 (ipykernel)",
   "language": "python",
   "name": "python3"
  },
  "language_info": {
   "codemirror_mode": {
    "name": "ipython",
    "version": 3
   },
   "file_extension": ".py",
   "mimetype": "text/x-python",
   "name": "python",
   "nbconvert_exporter": "python",
   "pygments_lexer": "ipython3",
   "version": "3.10.9"
  }
 },
 "nbformat": 4,
 "nbformat_minor": 5
}
